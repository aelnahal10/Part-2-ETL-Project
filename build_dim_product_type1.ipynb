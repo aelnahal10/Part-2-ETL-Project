{
 "cells": [
  {
   "cell_type": "markdown",
   "id": "c500ae33",
   "metadata": {},
   "source": [
    "### Step 1: Load Staging Data\n",
    "We assume that the CSV files have already been loaded into the staging tables in SQL Server. Now, we connect to the database to preview the staging data."
   ]
  },
  {
   "cell_type": "code",
   "execution_count": null,
   "id": "84d7ecb3",
   "metadata": {},
   "outputs": [],
   "source": [
    "import pandas as pd\n",
    "from sqlalchemy import create_engine\n",
    "import os\n",
    "from dotenv import load_dotenv\n",
    "\n",
    "load_dotenv()\n",
    "\n",
    "engine = create_engine(\n",
    "    f\"mssql+pyodbc://{os.getenv('SQL_USER')}:{os.getenv('SQL_PASSWORD')}@{os.getenv('SQL_SERVER')}:{os.getenv('SQL_PORT')}/{os.getenv('SQL_DB')}?driver=ODBC+Driver+17+for+SQL+Server\"\n",
    ")\n",
    "\n",
    "query = '''\n",
    "SELECT p.product_id, p.product_name, b.brand_name, c.category_name, p.model_year, p.list_price\n",
    "FROM stg_products p\n",
    "LEFT JOIN stg_brands b ON p.brand_id = b.brand_id\n",
    "LEFT JOIN stg_categories c ON p.category_id = c.category_id\n",
    "'''\n",
    "\n",
    "df_products = pd.read_sql(query, engine)\n",
    "df_products.head()\n"
   ]
  },
  {
   "cell_type": "markdown",
   "id": "9d9de8d6",
   "metadata": {},
   "source": [
    "### Step 2: Understand the Goal\n",
    "`dim_product` is a Type 1 dimension. We overwrite any changes without tracking history.\n",
    "We need to compare the source with the existing dimension, and either update or insert."
   ]
  },
  {
   "cell_type": "code",
   "execution_count": null,
   "id": "07dc977f",
   "metadata": {},
   "outputs": [],
   "source": [
    "merge_sql = '''\n",
    "MERGE dim_product AS target\n",
    "USING (\n",
    "    SELECT\n",
    "        p.product_id,\n",
    "        p.product_name,\n",
    "        c.category_name,\n",
    "        b.brand_name,\n",
    "        p.model_year,\n",
    "        p.list_price\n",
    "    FROM stg_products p\n",
    "    LEFT JOIN stg_brands b ON p.brand_id = b.brand_id\n",
    "    LEFT JOIN stg_categories c ON p.category_id = c.category_id\n",
    ") AS source\n",
    "ON target.product_id = source.product_id\n",
    "WHEN MATCHED THEN\n",
    "    UPDATE SET\n",
    "        product_name = source.product_name,\n",
    "        category_name = source.category_name,\n",
    "        brand_name = source.brand_name,\n",
    "        model_year = source.model_year,\n",
    "        list_price = source.list_price\n",
    "WHEN NOT MATCHED BY TARGET THEN\n",
    "    INSERT (product_id, product_name, category_name, brand_name, model_year, list_price)\n",
    "    VALUES (source.product_id, source.product_name, source.category_name, source.brand_name, source.model_year, source.list_price);\n",
    "'''\n",
    "\n",
    "with engine.begin() as conn:\n",
    "    conn.execute(merge_sql)"
   ]
  }
 ],
 "metadata": {
  "kernelspec": {
   "display_name": "Python 3",
   "language": "python",
   "name": "python3"
  },
  "language_info": {
   "name": "python",
   "version": "3.11.0"
  }
 },
 "nbformat": 4,
 "nbformat_minor": 5
}
